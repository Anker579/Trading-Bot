{
 "cells": [
  {
   "cell_type": "markdown",
   "metadata": {},
   "source": [
    "### 1 - Import test data"
   ]
  },
  {
   "cell_type": "code",
   "execution_count": 2,
   "metadata": {},
   "outputs": [
    {
     "name": "stderr",
     "output_type": "stream",
     "text": [
      "[*********************100%%**********************]  1 of 1 completed\n",
      "[*********************100%%**********************]  1 of 1 completed\n"
     ]
    }
   ],
   "source": [
    "import datetime as dt\n",
    "import yfinance as yf\n",
    "import pandas as pd\n",
    "import ta\n",
    "\n",
    "#this is a rest API - it only gets data every 15mins and acts off what is finds\n",
    "\n",
    "# IMPORTANT changed DNS settings can effect this (will stop it working)\n",
    "\n",
    "x = dt.datetime.now()\n",
    "nowdate = f'{x.strftime(\"%Y\")}-{x.strftime(\"%m\")}-{x.strftime(\"%d\")}'\n",
    "\n",
    "date_60_days_ago = x - dt.timedelta(days=59)\n",
    "formatted_date = f\"{date_60_days_ago.strftime('%Y')}-{date_60_days_ago.strftime('%m')}-{date_60_days_ago.strftime('%d')}\"\n",
    "\n",
    "fifteen_min_dataF = yf.download(\"EURUSD=X\", start=formatted_date, end=nowdate, interval='15m')\n",
    "fifteen_min_dataF.iloc[:,:]\n",
    "#fifteen_min_dataF.Open.iloc\n",
    "\n",
    "fifteen_min_dataF[\"sma_50\"] = ta.trend.SMAIndicator(fifteen_min_dataF[\"Close\"], 50).sma_indicator()\n",
    "fifteen_min_dataF[\"sma_200\"] = ta.trend.SMAIndicator(close=fifteen_min_dataF[\"Close\"], window=200).sma_indicator()\n",
    "\n",
    "one_day_dataF = yf.download('EURUSD=X', period='1y', interval='1d')"
   ]
  },
  {
   "cell_type": "markdown",
   "metadata": {},
   "source": [
    "### 2 - Define your signal functions"
   ]
  },
  {
   "cell_type": "code",
   "execution_count": 3,
   "metadata": {},
   "outputs": [],
   "source": [
    "def og_signal_generator(df):\n",
    "    open = df.Open.iloc[-1]\n",
    "    close = df.Close.iloc[-1]\n",
    "    previous_open = df.Open.iloc[-2]\n",
    "    previous_close = df.Close.iloc[-2]\n",
    "    \n",
    "    # Bearish Pattern\n",
    "    if (open>close and \n",
    "    previous_open<previous_close and \n",
    "    close<previous_open and\n",
    "    open>=previous_close):\n",
    "        return 1\n",
    "\n",
    "    # Bullish Pattern\n",
    "    elif (open<close and \n",
    "        previous_open>previous_close and \n",
    "        close>previous_open and\n",
    "        open<=previous_close):\n",
    "        return 2\n",
    "    \n",
    "    # No clear pattern\n",
    "    else:\n",
    "        return 0\n"
   ]
  },
  {
   "cell_type": "code",
   "execution_count": 4,
   "metadata": {},
   "outputs": [
    {
     "data": {
      "text/plain": [
       "2"
      ]
     },
     "execution_count": 4,
     "metadata": {},
     "output_type": "execute_result"
    }
   ],
   "source": [
    "def sma_signal_generator(df):\n",
    "    #very simple process\n",
    "    \n",
    "    sma_50 = df.iloc[-1].sma_50\n",
    "    sma_200 = df.iloc[-1].sma_200\n",
    "    \n",
    "    #bearish\n",
    "    if sma_50 > sma_200:\n",
    "        return 2\n",
    "    #bullish\n",
    "    elif sma_50 < sma_200:\n",
    "        return 1\n",
    "    #none\n",
    "    else:\n",
    "        return 0\n",
    "\n",
    "sma_signal_generator(fifteen_min_dataF)\n",
    "\n",
    "#  need to remember the SMA is still a changing value for each new candle - needs a column\n"
   ]
  },
  {
   "cell_type": "markdown",
   "metadata": {},
   "source": [
    "#### add signal column"
   ]
  },
  {
   "cell_type": "code",
   "execution_count": 5,
   "metadata": {},
   "outputs": [],
   "source": [
    "#signal = []\n",
    "#signal.append(0)\n",
    "#for i in range(1,len(fifteen_min_dataF)):\n",
    "#    df = fifteen_min_dataF[i-1:i+1]\n",
    "#    signal.append(og_signal_generator(df))\n",
    "##og_signal_generator(data)\n",
    "#fifteen_min_dataF[\"signal\"] = signal\n",
    "#    "
   ]
  },
  {
   "cell_type": "code",
   "execution_count": 6,
   "metadata": {},
   "outputs": [],
   "source": [
    "sma_signal = []\n",
    "sma_signal.append(0)\n",
    "for i in range(1,len(fifteen_min_dataF)):\n",
    "    df = fifteen_min_dataF[i-1:i+1]\n",
    "    sma_signal.append(sma_signal_generator(df))\n",
    "#og_signal_generator(data)\n",
    "fifteen_min_dataF[\"sma_signal\"] = sma_signal"
   ]
  },
  {
   "cell_type": "code",
   "execution_count": 7,
   "metadata": {},
   "outputs": [],
   "source": [
    "fifteen_min_dataF.sma_signal.value_counts()\n",
    "fifteen_min_dataF.iloc[:, :]\n",
    "fifteen_min_dataF.to_csv(\"dataf.csv\", index = False)"
   ]
  },
  {
   "cell_type": "code",
   "execution_count": 33,
   "metadata": {},
   "outputs": [],
   "source": [
    "#checking the return on the 1 day data download\n",
    "\n",
    "#signal = []\n",
    "#signal.append(0)\n",
    "#for i in range(1,len(one_day_dataF)):\n",
    "#    df = one_day_dataF[i-1:i+1]\n",
    "#    signal.append(og_signal_generator(df))\n",
    "##og_signal_generator(data)\n",
    "#\n",
    "#one_day_dataF[\"signal\"] = signal\n",
    "#one_day_dataF.signal.value_counts()\n",
    "#one_day_dataF.iloc[:, :]"
   ]
  },
  {
   "cell_type": "code",
   "execution_count": 5,
   "metadata": {},
   "outputs": [],
   "source": [
    "from apscheduler.schedulers.blocking import BlockingScheduler\n",
    "from oandapyV20 import API\n",
    "import oandapyV20.endpoints.orders as orders\n",
    "from oandapyV20.contrib.requests import MarketOrderRequest\n",
    "from oanda_candles import Pair, Gran, CandleClient\n",
    "from oandapyV20.contrib.requests import TakeProfitDetails, StopLossDetails"
   ]
  },
  {
   "cell_type": "code",
   "execution_count": 6,
   "metadata": {},
   "outputs": [],
   "source": [
    "def str_to_bool(s):\n",
    "    if s.lower() in ['true', '1', 't', 'y', 'yes']:\n",
    "        return True\n",
    "    elif s.lower() in ['false', '0', 'f', 'n', 'no']:\n",
    "        return False\n",
    "    else:\n",
    "        raise ValueError(f\"Cannot convert {s} to boolean, please input a formattable string\")"
   ]
  },
  {
   "cell_type": "code",
   "execution_count": 7,
   "metadata": {},
   "outputs": [],
   "source": [
    "is_live = False\n",
    "has_prompted = False\n",
    "\n",
    "def auth_deets(is_live, type_:str,):\n",
    "    global has_prompted\n",
    "    if not has_prompted:\n",
    "        is_live = str_to_bool(s=input(\"Would you like to run on your LIVE account? if n then will be DEMO (y/n)\"))\n",
    "        has_prompted = True\n",
    "    if is_live:\n",
    "        if type_ == \"token\":\n",
    "            access_token='84aa14ef906b9b989c64bff10d032b30-7fefd28cd58969179eaf00aad7c2baa5'# you need token here generated from OANDA account for LIVE\n",
    "            return access_token\n",
    "        elif type_ == \"id\":\n",
    "            accID = '001-004-12283531-001' #my account ID here from oanda for LIVE\n",
    "            return accID\n",
    "    else:\n",
    "        if type_ == \"token\":\n",
    "            access_token='eac0b37f2067f37b1bb9884dfb473e6b-e204948541e0c8a2ba8a967492225ca7' # DEMO TOKEN\n",
    "            return access_token\n",
    "        elif type_ == \"id\":\n",
    "            accID = '101-004-29576199-001' #my acc ID for the DEMO\n",
    "            return accID"
   ]
  },
  {
   "cell_type": "code",
   "execution_count": 8,
   "metadata": {},
   "outputs": [
    {
     "name": "stdout",
     "output_type": "stream",
     "text": [
      "True\n",
      "True\n",
      "True\n"
     ]
    }
   ],
   "source": [
    "#from config import access_token, accountID\n",
    "x=0\n",
    "def M15_get_candles(n, access_token=auth_deets(is_live, \"token\"), accountID=auth_deets(is_live, \"id\")):\n",
    "    client = CandleClient(access_token, real=is_live)\n",
    "    collector = client.get_collector(Pair.EUR_USD, Gran.M15) #15 is the time frame (15minutes)\n",
    "    candles = collector.grab(n)\n",
    "    return candles#<- contain info like open and close price\n",
    "\n",
    "#in the \"oanda_candles\" in the env packages it shows the bot will either use the api url for real or practice trading depending on the real statement in the client line\n",
    "\n",
    "candles = M15_get_candles(3)\n",
    "for candle in candles:\n",
    "    print(float(str(candle.bid.o))>1)\n",
    "# TRUE outputs tell us the last candles have an open price above 1"
   ]
  },
  {
   "cell_type": "markdown",
   "metadata": {},
   "source": [
    "#### 3 - Connect to the market and execute trades"
   ]
  },
  {
   "cell_type": "code",
   "execution_count": 11,
   "metadata": {},
   "outputs": [],
   "source": [
    "def M15_trading_job():\n",
    "    candles = M15_get_candles(3) #last candle is still open (its a current price so the close price is fluctuating)\n",
    "    dfstream = pd.fifteen_min_dataFrame(columns=['Open','Close','High','Low'])\n",
    "    \n",
    "    i=0\n",
    "    for candle in candles:\n",
    "        dfstream.loc[i, ['Open']] = float(str(candle.bid.o))\n",
    "        dfstream.loc[i, ['Close']] = float(str(candle.bid.c))\n",
    "        dfstream.loc[i, ['High']] = float(str(candle.bid.h))\n",
    "        dfstream.loc[i, ['Low']] = float(str(candle.bid.l))\n",
    "        i=i+1\n",
    "\n",
    "    dfstream['Open'] = dfstream['Open'].astype(float)\n",
    "    dfstream['Close'] = dfstream['Close'].astype(float)\n",
    "    dfstream['High'] = dfstream['High'].astype(float)\n",
    "    dfstream['Low'] = dfstream['Low'].astype(float)\n",
    "\n",
    "    signal = og_signal_generator(dfstream.iloc[:-1,:])\n",
    "    \n",
    "    # EXECUTING ORDERS\n",
    "\n",
    "    accID = auth_deets(is_live, \"id\")\n",
    "    access_token = auth_deets(is_live, \"token\")\n",
    "\n",
    "    client = API(access_token)\n",
    "\n",
    "    #-----------------------------------------------------------------\n",
    "    # all this defines stop loss and stop profit     \n",
    "    SLTPRatio = 2.\n",
    "    previous_candleR = abs(dfstream['High'].iloc[-2]-dfstream['Low'].iloc[-2])\n",
    "    \n",
    "    SLBuy = float(str(candle.bid.o))-previous_candleR\n",
    "    SLSell = float(str(candle.bid.o))+previous_candleR\n",
    "\n",
    "    TPBuy = float(str(candle.bid.o))+previous_candleR*SLTPRatio\n",
    "    TPSell = float(str(candle.bid.o))-previous_candleR*SLTPRatio\n",
    "    \n",
    "    print(dfstream.iloc[:-1,:])\n",
    "    print(TPBuy, \"  \", SLBuy, \"  \", TPSell, \"  \", SLSell)\n",
    "\n",
    "    #Sell\n",
    "    if signal == 1:\n",
    "        mo = MarketOrderRequest(instrument=\"EUR_USD\", units=-1000, takeProfitOnFill=TakeProfitDetails(price=TPSell).data, stopLossOnFill=StopLossDetails(price=SLSell).data)\n",
    "        r = orders.OrderCreate(accountID = accID, data=mo.data)\n",
    "        rv = client.request(r)\n",
    "        print(rv)\n",
    "    #Buy\n",
    "    elif signal == 2:\n",
    "        mo = MarketOrderRequest(instrument=\"EUR_USD\", units=1000, takeProfitOnFill=TakeProfitDetails(price=TPBuy).data, stopLossOnFill=StopLossDetails(price=SLBuy).data)\n",
    "        r = orders.OrderCreate(accountID = accID, data=mo.data)\n",
    "        rv = client.request(r)\n",
    "        print(rv)"
   ]
  },
  {
   "cell_type": "markdown",
   "metadata": {},
   "source": [
    "### 4 - Executing orders automatically with a scheduler"
   ]
  },
  {
   "cell_type": "code",
   "execution_count": 12,
   "metadata": {},
   "outputs": [
    {
     "name": "stdout",
     "output_type": "stream",
     "text": [
      "      Open    Close     High      Low\n",
      "0  1.07879  1.07837  1.07902  1.07836\n",
      "1  1.07836  1.07826  1.07837  1.07778\n",
      "1.0794400000000002    1.07767    1.0770799999999998    1.07885\n"
     ]
    }
   ],
   "source": [
    "M15_trading_job()\n",
    "\n",
    "#scheduler = BlockingScheduler()\n",
    "#scheduler.add_job(M15_trading_job, 'cron', day_of_week='mon-fri', hour='00-23', minute='1,16,31,46', start_date='2022-01-12 12:00:00', timezone='America/Chicago')\n",
    "#scheduler.start()"
   ]
  },
  {
   "cell_type": "code",
   "execution_count": null,
   "metadata": {},
   "outputs": [],
   "source": []
  }
 ],
 "metadata": {
  "kernelspec": {
   "display_name": "Python 3.10.8 64-bit",
   "language": "python",
   "name": "python3"
  },
  "language_info": {
   "codemirror_mode": {
    "name": "ipython",
    "version": 3
   },
   "file_extension": ".py",
   "mimetype": "text/x-python",
   "name": "python",
   "nbconvert_exporter": "python",
   "pygments_lexer": "ipython3",
   "version": "3.10.10"
  },
  "vscode": {
   "interpreter": {
    "hash": "c0ff92a541b5eb8a0f75470c34280cf0dea79e8b819847822bd36e33345fddf3"
   }
  }
 },
 "nbformat": 4,
 "nbformat_minor": 2
}
