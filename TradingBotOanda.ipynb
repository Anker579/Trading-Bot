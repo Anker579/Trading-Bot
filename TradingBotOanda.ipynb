{
 "cells": [
  {
   "cell_type": "markdown",
   "metadata": {},
   "source": [
    "### 1 - Import test data"
   ]
  },
  {
   "cell_type": "code",
   "execution_count": 7,
   "metadata": {},
   "outputs": [
    {
     "name": "stderr",
     "output_type": "stream",
     "text": [
      "2024-09-21 10:03:27.964 WARNING streamlit.runtime.scriptrunner_utils.script_run_context: Thread 'MainThread': missing ScriptRunContext! This warning can be ignored when running in bare mode.\n",
      "2024-09-21 10:03:29.230 \n",
      "  \u001b[33m\u001b[1mWarning:\u001b[0m to view this Streamlit app on a browser, run it with the following\n",
      "  command:\n",
      "\n",
      "    streamlit run c:\\Users\\Angus\\anaconda3\\envs\\trading-env\\lib\\site-packages\\ipykernel_launcher.py [ARGUMENTS]\n",
      "2024-09-21 10:03:29.231 Thread 'MainThread': missing ScriptRunContext! This warning can be ignored when running in bare mode.\n",
      "[*********************100%%**********************]  1 of 1 completed\n"
     ]
    }
   ],
   "source": [
    "from data import data_connector, process_data\n",
    "from trader import auth, buy_sell\n",
    "import pandas as pd\n",
    "import streamlit as st\n",
    "\n",
    "st.title(\"Hello World\")\n",
    "\n",
    "my_trader = buy_sell.trade()\n",
    "my_auth = auth.authoriser()\n",
    "my_connector = data_connector.api_connector()\n",
    "my_processor = process_data.processor()\n",
    "\n",
    "fifteen_min_dataF = my_connector.yf_get(60)\n",
    "#this is a rest API - it only gets data every 15mins and acts off what is finds\n",
    "\n",
    "\n",
    "#fifteen_min_dataF.iloc[:,:]\n",
    "#fifteen_min_dataF.Open.iloc\n",
    "#one_day_dataF = yf.download('EURUSD=X', period='1y', interval='1d')\n",
    "\n",
    "fifteen_min_dataF = my_processor.add_sma(fifteen_min_dataF, [50,200])\n",
    "\n",
    "#fifteen_min_dataF = my_processor.add_sma(fifteen_min_dataF, 50)\n",
    "#fifteen_min_dataF = my_processor.add_sma(fifteen_min_dataF, 200)\n",
    "\n",
    "#fifteen_min_dataF[\"sma_50\"] = ta.trend.SMAIndicator(fifteen_min_dataF[\"Close\"], 50).sma_indicator()\n",
    "#fifteen_min_dataF[\"sma_200\"] = ta.trend.SMAIndicator(close=fifteen_min_dataF[\"Close\"], window=200).sma_indicator()\n"
   ]
  },
  {
   "cell_type": "markdown",
   "metadata": {},
   "source": [
    "### 2 - Define your signal functions"
   ]
  },
  {
   "cell_type": "code",
   "execution_count": 8,
   "metadata": {},
   "outputs": [],
   "source": [
    "def og_signal_generator(df):\n",
    "    open = df.Open.iloc[-1]\n",
    "    close = df.Close.iloc[-1]\n",
    "    previous_open = df.Open.iloc[-2]\n",
    "    previous_close = df.Close.iloc[-2]\n",
    "    \n",
    "    # Bearish Pattern\n",
    "    if (open>close and \n",
    "    previous_open<previous_close and \n",
    "    close<previous_open and\n",
    "    open>=previous_close):\n",
    "        return 1\n",
    "\n",
    "    # Bullish Pattern\n",
    "    elif (open<close and \n",
    "        previous_open>previous_close and \n",
    "        close>previous_open and\n",
    "        open<=previous_close):\n",
    "        return 2\n",
    "    \n",
    "    # No clear pattern\n",
    "    else:\n",
    "        return 0"
   ]
  },
  {
   "cell_type": "code",
   "execution_count": 9,
   "metadata": {},
   "outputs": [],
   "source": [
    "def sma_signal_generator(df):\n",
    "    #very simple process\n",
    "    \n",
    "    sma_50 = df.sma_50\n",
    "    sma_200 = df.sma_200\n",
    "    #print(f\"200 + {sma_200}\")\n",
    "    #print(sma_50)\n",
    "    #bearish\n",
    "    if sma_50 > sma_200:\n",
    "        return 2\n",
    "    #bullish\n",
    "    elif sma_50 < sma_200:\n",
    "        return 1\n",
    "    #none\n",
    "    else:\n",
    "        return 0\n",
    "\n",
    "#sma_signal_generator(fifteen_min_dataF)\n",
    "\n",
    "#  need to remember the SMA is still a changing value for each new candle - needs a column\n"
   ]
  },
  {
   "cell_type": "markdown",
   "metadata": {},
   "source": [
    "#### add signal column"
   ]
  },
  {
   "cell_type": "code",
   "execution_count": 26,
   "metadata": {},
   "outputs": [],
   "source": [
    "#signal = []\n",
    "#signal.append(0)\n",
    "#for i in range(1,len(fifteen_min_dataF)):\n",
    "#    df = fifteen_min_dataF[i-1:i+1]\n",
    "#    signal.append(og_signal_generator(df))\n",
    "##og_signal_generator(data)\n",
    "#fifteen_min_dataF[\"signal\"] = signal\n",
    "#    "
   ]
  },
  {
   "cell_type": "code",
   "execution_count": 10,
   "metadata": {},
   "outputs": [],
   "source": [
    "sma_signal = []\n",
    "sma_signal.append(0)\n",
    "for i in range(1,len(fifteen_min_dataF)):\n",
    "    df = fifteen_min_dataF.iloc[i]\n",
    "    #print(df)\n",
    "    sma_signal.append(sma_signal_generator(df))\n",
    "#og_signal_generator(data)\n",
    "fifteen_min_dataF[\"sma_signal\"] = sma_signal\n"
   ]
  },
  {
   "cell_type": "code",
   "execution_count": 11,
   "metadata": {},
   "outputs": [],
   "source": [
    "fifteen_min_dataF.sma_signal.value_counts()\n",
    "fifteen_min_dataF.iloc[:, :]\n",
    "fifteen_min_dataF.to_csv(\"dataf.csv\", index = False)\n"
   ]
  },
  {
   "cell_type": "code",
   "execution_count": 29,
   "metadata": {},
   "outputs": [],
   "source": [
    "#checking the return on the 1 day data download\n",
    "\n",
    "#signal = []\n",
    "#signal.append(0)\n",
    "#for i in range(1,len(one_day_dataF)):\n",
    "#    df = one_day_dataF[i-1:i+1]\n",
    "#    signal.append(og_signal_generator(df))\n",
    "##og_signal_generator(data)\n",
    "#\n",
    "#one_day_dataF[\"signal\"] = signal\n",
    "#one_day_dataF.signal.value_counts()\n",
    "#one_day_dataF.iloc[:, :]"
   ]
  },
  {
   "cell_type": "code",
   "execution_count": 30,
   "metadata": {},
   "outputs": [],
   "source": [
    "from apscheduler.schedulers.blocking import BlockingScheduler\n",
    "from oandapyV20 import API\n",
    "import oandapyV20.endpoints.orders as orders\n",
    "from oandapyV20.contrib.requests import MarketOrderRequest\n",
    "from oanda_candles import Pair, Gran, CandleClient\n",
    "from oandapyV20.contrib.requests import TakeProfitDetails, StopLossDetails\n"
   ]
  },
  {
   "cell_type": "code",
   "execution_count": 31,
   "metadata": {},
   "outputs": [],
   "source": [
    "def str_to_bool(s):\n",
    "    if s.lower() in ['true', '1', 't', 'y', 'yes']:\n",
    "        return True\n",
    "    elif s.lower() in ['false', '0', 'f', 'n', 'no']:\n",
    "        return False\n",
    "    else:\n",
    "        raise ValueError(f\"Cannot convert {s} to boolean, please input a formattable string\")\n",
    "    "
   ]
  },
  {
   "cell_type": "code",
   "execution_count": 35,
   "metadata": {},
   "outputs": [],
   "source": [
    "is_live = False\n",
    "has_prompted = False\n",
    "\n",
    "\n",
    "def auth_deets(is_live, type_:str,):\n",
    "    global has_prompted\n",
    "    if not has_prompted:\n",
    "        is_live = str_to_bool(s=input(\"Would you like to run on your LIVE account? if n then will be DEMO (y/n)\"))\n",
    "        has_prompted = True\n",
    "    if is_live:\n",
    "        if type_ == \"token\":\n",
    "            access_token='84aa14ef906b9b989c64bff10d032b30-7fefd28cd58969179eaf00aad7c2baa5'# you need token here generated from OANDA account for LIVE\n",
    "            return access_token\n",
    "        elif type_ == \"id\":\n",
    "            accID = '001-004-12283531-001' #my account ID here from oanda for LIVE\n",
    "            return accID\n",
    "    else:\n",
    "        if type_ == \"token\":\n",
    "            access_token='eac0b37f2067f37b1bb9884dfb473e6b-e204948541e0c8a2ba8a967492225ca7' # DEMO TOKEN\n",
    "            return access_token\n",
    "        elif type_ == \"id\":\n",
    "            accID = '101-004-29576199-001' #my acc ID for the DEMO\n",
    "            return accID"
   ]
  },
  {
   "cell_type": "code",
   "execution_count": 39,
   "metadata": {},
   "outputs": [
    {
     "ename": "TypeError",
     "evalue": "authoriser.auth_deets() missing 1 required positional argument: 'has_prompted'",
     "output_type": "error",
     "traceback": [
      "\u001b[1;31m---------------------------------------------------------------------------\u001b[0m",
      "\u001b[1;31mTypeError\u001b[0m                                 Traceback (most recent call last)",
      "Cell \u001b[1;32mIn[39], line 5\u001b[0m\n\u001b[0;32m      3\u001b[0m \u001b[38;5;66;03m#from config import access_token, accountID\u001b[39;00m\n\u001b[0;32m      4\u001b[0m x\u001b[38;5;241m=\u001b[39m\u001b[38;5;241m0\u001b[39m\n\u001b[1;32m----> 5\u001b[0m \u001b[38;5;28;01mdef\u001b[39;00m \u001b[38;5;21mM15_get_candles\u001b[39m(n, access_token\u001b[38;5;241m=\u001b[39m\u001b[43mmy_auth\u001b[49m\u001b[38;5;241;43m.\u001b[39;49m\u001b[43mauth_deets\u001b[49m\u001b[43m(\u001b[49m\u001b[43mis_live\u001b[49m\u001b[43m,\u001b[49m\u001b[43m \u001b[49m\u001b[38;5;124;43m\"\u001b[39;49m\u001b[38;5;124;43mtoken\u001b[39;49m\u001b[38;5;124;43m\"\u001b[39;49m\u001b[43m)\u001b[49m, ):\n\u001b[0;32m      6\u001b[0m     client \u001b[38;5;241m=\u001b[39m CandleClient(access_token, real\u001b[38;5;241m=\u001b[39mis_live)\n\u001b[0;32m      7\u001b[0m     collector \u001b[38;5;241m=\u001b[39m client\u001b[38;5;241m.\u001b[39mget_collector(Pair\u001b[38;5;241m.\u001b[39mEUR_USD, Gran\u001b[38;5;241m.\u001b[39mM15) \u001b[38;5;66;03m#15 is the time frame (15minutes)\u001b[39;00m\n",
      "\u001b[1;31mTypeError\u001b[0m: authoriser.auth_deets() missing 1 required positional argument: 'has_prompted'"
     ]
    }
   ],
   "source": [
    "my_candles = my_connector.get_candles(False, 3, token=my_auth.auth_deets(is_live, \"token\", has_prompted=has_prompted), pair=\"EUR_USD\", interval=1, )\n",
    "\n",
    "#from config import access_token, accountID\n",
    "x=0\n",
    "def M15_get_candles(n, access_token=my_auth.auth_deets(is_live, \"token\"), ):\n",
    "    client = CandleClient(access_token, real=is_live)\n",
    "    collector = client.get_collector(Pair.EUR_USD, Gran.M15) #15 is the time frame (15minutes)\n",
    "    candles = collector.grab(n)\n",
    "    return candles#<- contain info like open and close price\n",
    "\n",
    "#in the \"oanda_candles\" in the env packages it shows the bot will either use the api url for real or practice trading depending on the real statement in the client line\n",
    "\n",
    "#candles = M15_get_candles(3)\n",
    "#for candle in my_candles:\n",
    "#    print(float(str(candle.bid.o))>1)\n",
    "# TRUE outputs tell us the last candles have an open price above 1\n"
   ]
  },
  {
   "cell_type": "markdown",
   "metadata": {},
   "source": [
    "#### 3 - Connect to the market and execute trades"
   ]
  },
  {
   "cell_type": "code",
   "execution_count": null,
   "metadata": {},
   "outputs": [],
   "source": [
    "def og_M15_trading_job():\n",
    "    candles = M15_get_candles(3) #last candle is still open (its a current price so the close price is fluctuating)\n",
    "    \n",
    "    format_tuple = my_processor.format_columns(candles)\n",
    "\n",
    "    dfstream = format_tuple[0]\n",
    "    \n",
    "    candle = format_tuple[1]\n",
    "    \n",
    "    signal = og_signal_generator(dfstream.iloc[:-1,:])\n",
    "    \n",
    "    # EXECUTING ORDERS\n",
    "\n",
    "    accID = my_auth.auth_deets(is_live, \"id\")\n",
    "    access_token = my_auth.auth_deets(is_live, \"token\")\n",
    "    client = API(access_token)\n",
    "    \n",
    "    #-----------------------------------------------------------------\n",
    "    # all this defines stop loss and stop profit     \n",
    "    p_l_values = my_trader.p_l_stops(dfstream, 2., candle=candle)\n",
    "    print(type(candle))\n",
    "    print(dfstream.iloc[:-1,:])\n",
    "    print(p_l_values)\n",
    "    \n",
    "    my_trader.buy_sell(signal, client, accID, p_l_values)\n",
    "    \n",
    "    #Sell\n",
    "    #if signal == 1:\n",
    "    #    mo = MarketOrderRequest(instrument=\"EUR_USD\", units=-1000, takeProfitOnFill=TakeProfitDetails(price=TPSell).data, stopLossOnFill=StopLossDetails(price=SLSell).data)\n",
    "    #    r = orders.OrderCreate(accountID = accID, data=mo.data)\n",
    "    #    rv = client.request(r)\n",
    "    #    print(rv)\n",
    "    #Buy\n",
    "    #elif signal == 2:\n",
    "    #    mo = MarketOrderRequest(instrument=\"EUR_USD\", units=1000, takeProfitOnFill=TakeProfitDetails(price=TPBuy).data, stopLossOnFill=StopLossDetails(price=SLBuy).data)\n",
    "    #    r = orders.OrderCreate(accountID = accID, data=mo.data)\n",
    "    #    rv = client.request(r)\n",
    "    #    print(rv)"
   ]
  },
  {
   "cell_type": "code",
   "execution_count": null,
   "metadata": {},
   "outputs": [
    {
     "ename": "",
     "evalue": "",
     "output_type": "error",
     "traceback": [
      "\u001b[1;31mThe Kernel crashed while executing code in the current cell or a previous cell. \n",
      "\u001b[1;31mPlease review the code in the cell(s) to identify a possible cause of the failure. \n",
      "\u001b[1;31mClick <a href='https://aka.ms/vscodeJupyterKernelCrash'>here</a> for more info. \n",
      "\u001b[1;31mView Jupyter <a href='command:jupyter.viewOutput'>log</a> for further details."
     ]
    }
   ],
   "source": [
    "def sma_M15_trading_job():\n",
    "    candles = M15_get_candles(200) #last candle is still open (its a current price so the close price is fluctuating)\n",
    "    \n",
    "    format_tuple = my_processor.format_columns(candles)\n",
    "\n",
    "    dfstream = format_tuple[0]\n",
    "    \n",
    "    candle = format_tuple[1]\n",
    "\n",
    "    windows = [50,200]\n",
    "\n",
    "    dfstream = my_processor.add_sma(dfstream, sma_windows=windows)\n",
    "\n",
    "\n",
    "\n",
    "    #return dfstream.iloc[-1,]\n",
    "\n",
    "    signal = sma_signal_generator(dfstream.iloc[-1,])\n",
    "    \n",
    "    # EXECUTING ORDERS\n",
    "\n",
    "    accID = my_auth.auth_deets(is_live, \"id\")\n",
    "    access_token = my_auth.auth_deets(is_live, \"token\")\n",
    "\n",
    "    client = API(access_token)\n",
    "\n",
    "    #-----------------------------------------------------------------\n",
    "    # all this defines stop loss and stop profit     \n",
    "    SLTPRatio = 2.\n",
    "    previous_candleR = abs(dfstream['High'].iloc[-2]-dfstream['Low'].iloc[-2])\n",
    "    print(type(candle))\n",
    "    SLBuy = float(str(candle.bid.o))-previous_candleR\n",
    "    SLSell = float(str(candle.bid.o))+previous_candleR\n",
    "\n",
    "    TPBuy = float(str(candle.bid.o))+previous_candleR*SLTPRatio\n",
    "    TPSell = float(str(candle.bid.o))-previous_candleR*SLTPRatio\n",
    "    \n",
    "    print(dfstream.iloc[:-1,:])\n",
    "    print(TPBuy, \"  \", SLBuy, \"  \", TPSell, \"  \", SLSell)\n",
    "\n",
    "    #Sell\n",
    "    if signal == 1:\n",
    "        mo = MarketOrderRequest(instrument=\"EUR_USD\", units=-1000, takeProfitOnFill=TakeProfitDetails(price=TPSell).data, stopLossOnFill=StopLossDetails(price=SLSell).data)\n",
    "        r = orders.OrderCreate(accountID = accID, data=mo.data)\n",
    "        rv = client.request(r)\n",
    "        print(rv)\n",
    "    #Buy\n",
    "    elif signal == 2:\n",
    "        mo = MarketOrderRequest(instrument=\"EUR_USD\", units=1000, takeProfitOnFill=TakeProfitDetails(price=TPBuy).data, stopLossOnFill=StopLossDetails(price=SLBuy).data)\n",
    "        r = orders.OrderCreate(accountID = accID, data=mo.data)\n",
    "        rv = client.request(r)\n",
    "        print(rv)"
   ]
  },
  {
   "cell_type": "markdown",
   "metadata": {},
   "source": [
    "### 4 - Executing orders automatically with a scheduler"
   ]
  },
  {
   "cell_type": "code",
   "execution_count": null,
   "metadata": {},
   "outputs": [],
   "source": [
    "#sma_M15_trading_job()\n",
    "\n",
    "scheduler = BlockingScheduler()\n",
    "scheduler.add_job(sma_M15_trading_job, 'cron', day_of_week='mon-fri', hour='00-23', minute='1,16,31,46', start_date='2022-01-12 12:00:00', timezone='America/Chicago')\n",
    "scheduler.start()"
   ]
  },
  {
   "cell_type": "code",
   "execution_count": null,
   "metadata": {},
   "outputs": [],
   "source": []
  }
 ],
 "metadata": {
  "kernelspec": {
   "display_name": "Python 3.10.8 64-bit",
   "language": "python",
   "name": "python3"
  },
  "language_info": {
   "codemirror_mode": {
    "name": "ipython",
    "version": 3
   },
   "file_extension": ".py",
   "mimetype": "text/x-python",
   "name": "python",
   "nbconvert_exporter": "python",
   "pygments_lexer": "ipython3",
   "version": "3.10.10"
  },
  "vscode": {
   "interpreter": {
    "hash": "c0ff92a541b5eb8a0f75470c34280cf0dea79e8b819847822bd36e33345fddf3"
   }
  }
 },
 "nbformat": 4,
 "nbformat_minor": 2
}
